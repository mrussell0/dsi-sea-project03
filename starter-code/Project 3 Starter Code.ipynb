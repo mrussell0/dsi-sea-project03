{
 "cells": [
  {
   "cell_type": "markdown",
   "metadata": {},
   "source": [
    "# Getting started\n",
    "\n",
    "Once you've chosen your scenario, download the data from [the Iowa website](https://data.iowa.gov/Economy/Iowa-Liquor-Sales/m3tr-qhgy) in csv format. Start by loading the data with pandas. You may need to parse the date columns appropriately."
   ]
  },
  {
   "cell_type": "code",
   "execution_count": 232,
   "metadata": {
    "collapsed": false,
    "scrolled": true
   },
   "outputs": [],
   "source": [
    "import pandas as pd\n",
    "import numpy as np\n",
    "\n",
    "from sklearn import datasets, linear_model, metrics\n",
    "from sklearn.cross_validation import cross_val_score, cross_val_predict, train_test_split\n",
    "from sklearn.metrics import r2_score\n",
    "\n",
    "## Load the data into a DataFrame\n",
    "df = pd.read_csv('../Iowa_Liquor_sales_sample_10pct.csv')\n",
    "\n",
    "## Transform the dates if needed, e.g.\n",
    "df[\"Date\"] = pd.to_datetime(df[\"Date\"], format=\"%m/%d/%Y\")"
   ]
  },
  {
   "cell_type": "markdown",
   "metadata": {},
   "source": [
    "# Explore the data\n",
    "\n",
    "Perform some exploratory statistical analysis and make some plots, such as histograms of transaction totals, bottles sold, etc."
   ]
  },
  {
   "cell_type": "code",
   "execution_count": 233,
   "metadata": {
    "collapsed": false,
    "scrolled": true
   },
   "outputs": [
    {
     "name": "stdout",
     "output_type": "stream",
     "text": [
      "        Date  Store Number         City Zip Code  County Number      County  \\\n",
      "0 2015-11-04          3717       SUMNER    50674            9.0      Bremer   \n",
      "1 2016-03-02          2614    DAVENPORT    52807           82.0       Scott   \n",
      "2 2016-02-11          2106  CEDAR FALLS    50613            7.0  Black Hawk   \n",
      "3 2016-02-03          2501         AMES    50010           85.0       Story   \n",
      "4 2015-08-18          3654      BELMOND    50421           99.0      Wright   \n",
      "\n",
      "    Category              Category Name  Vendor Number  Item Number  \\\n",
      "0  1051100.0           APRICOT BRANDIES             55        54436   \n",
      "1  1011100.0           BLENDED WHISKIES            395        27605   \n",
      "2  1011200.0  STRAIGHT BOURBON WHISKIES             65        19067   \n",
      "3  1071100.0         AMERICAN COCKTAILS            395        59154   \n",
      "4  1031080.0             VODKA 80 PROOF            297        35918   \n",
      "\n",
      "            Item Description  Bottle Volume (ml) State Bottle Cost  \\\n",
      "0  Mr. Boston Apricot Brandy                 750             $4.50   \n",
      "1                    Tin Cup                 750            $13.75   \n",
      "2                   Jim Beam                1000            $12.59   \n",
      "3    1800 Ultimate Margarita                1750             $9.50   \n",
      "4         Five O'clock Vodka                1750             $7.20   \n",
      "\n",
      "  State Bottle Retail  Bottles Sold Sale (Dollars)  Volume Sold (Liters)  \\\n",
      "0               $6.75            12         $81.00                   9.0   \n",
      "1              $20.63             2         $41.26                   1.5   \n",
      "2              $18.89            24        $453.36                  24.0   \n",
      "3              $14.25             6         $85.50                  10.5   \n",
      "4              $10.80            12        $129.60                  21.0   \n",
      "\n",
      "   Volume Sold (Gallons)  \n",
      "0                   2.38  \n",
      "1                   0.40  \n",
      "2                   6.34  \n",
      "3                   2.77  \n",
      "4                   5.55  \n"
     ]
    },
    {
     "data": {
      "text/plain": [
       "(270955, 18)"
      ]
     },
     "execution_count": 233,
     "metadata": {},
     "output_type": "execute_result"
    }
   ],
   "source": [
    "print df.head()\n",
    "df.shape\n",
    "df.info()"
   ]
  },
  {
   "cell_type": "code",
   "execution_count": 263,
   "metadata": {
    "collapsed": false
   },
   "outputs": [
    {
     "name": "stdout",
     "output_type": "stream",
     "text": [
      "<class 'pandas.core.frame.DataFrame'>\n",
      "RangeIndex: 270955 entries, 0 to 270954\n",
      "Data columns (total 18 columns):\n",
      "date             270955 non-null datetime64[ns]\n",
      "store_number     270955 non-null int64\n",
      "city             270955 non-null object\n",
      "zip_code         270955 non-null object\n",
      "county_number    269878 non-null float64\n",
      "county           269878 non-null object\n",
      "cat_name         270323 non-null object\n",
      "vendor           270955 non-null int64\n",
      "item_number      270955 non-null int64\n",
      "item_desc        270955 non-null object\n",
      "btl_vol          270955 non-null int64\n",
      "st_btl_cost      270955 non-null float64\n",
      "st_btl_retail    270955 non-null float64\n",
      "btls_sold        270955 non-null int64\n",
      "sale             270955 non-null float64\n",
      "vol_sold         270955 non-null float64\n",
      "year             270955 non-null int64\n",
      "month            270955 non-null int64\n",
      "dtypes: datetime64[ns](1), float64(5), int64(7), object(5)\n",
      "memory usage: 37.2+ MB\n"
     ]
    }
   ],
   "source": [
    "df.info()"
   ]
  },
  {
   "cell_type": "code",
   "execution_count": 249,
   "metadata": {
    "collapsed": false
   },
   "outputs": [
    {
     "name": "stdout",
     "output_type": "stream",
     "text": [
      "        store_number  county_number        vendor    item_number  \\\n",
      "count  270955.000000  269878.000000  270955.00000  270955.000000   \n",
      "mean     3590.263701      57.231642     256.43443   45974.963300   \n",
      "std       947.662050      27.341205     141.01489   52757.043086   \n",
      "min      2106.000000       1.000000      10.00000     168.000000   \n",
      "25%      2604.000000            NaN     115.00000   26827.000000   \n",
      "50%      3722.000000            NaN     260.00000   38176.000000   \n",
      "75%      4378.000000            NaN     380.00000   64573.000000   \n",
      "max      9023.000000      99.000000     978.00000  995507.000000   \n",
      "\n",
      "             btl_vol    st_btl_cost  st_btl_retail      btls_sold  \\\n",
      "count  270955.000000  270955.000000  270955.000000  270955.000000   \n",
      "mean      924.830341       9.773281      14.675760       9.871285   \n",
      "std       493.088489       7.047119      10.570145      24.040912   \n",
      "min        50.000000       0.890000       1.340000       1.000000   \n",
      "25%       750.000000       5.500000       8.270000       2.000000   \n",
      "50%       750.000000       8.000000      12.270000       6.000000   \n",
      "75%      1000.000000      11.920000      17.880000      12.000000   \n",
      "max      6000.000000     425.000000     637.500000    2508.000000   \n",
      "\n",
      "                sale       vol_sold           year          month  \n",
      "count  270955.000000  270955.000000  270955.000000  270955.000000  \n",
      "mean      128.902375       8.981351    2015.193246       5.821103  \n",
      "std       383.027369      28.913690       0.394845       3.621291  \n",
      "min         1.340000       0.100000    2015.000000       1.000000  \n",
      "25%        30.450000       1.500000    2015.000000       3.000000  \n",
      "50%        70.560000       5.250000    2015.000000       5.000000  \n",
      "75%       135.000000      10.500000    2015.000000       9.000000  \n",
      "max     36392.400000    2508.000000    2016.000000      12.000000  \n"
     ]
    }
   ],
   "source": [
    "print df.describe()"
   ]
  },
  {
   "cell_type": "code",
   "execution_count": 234,
   "metadata": {
    "collapsed": false,
    "scrolled": true
   },
   "outputs": [],
   "source": [
    "#Drop redundent data columns\n",
    "df.drop('Volume Sold (Gallons)', axis=1, inplace=True)\n",
    "df.drop('Category', axis=1, inplace=True)\n",
    "\n",
    "#Rename columns\n",
    "df.columns = ['date', 'store_number','city','zip_code','county_number','county',\n",
    "              'cat_name','vendor','item_number','item_desc','btl_vol','st_btl_cost',\n",
    "              'st_btl_retail','btls_sold','sale','vol_sold']\n",
    "\n",
    "#Convert the data types of State Bottle Cost\n",
    "df['sale'] = [float(x.replace('$','')) for x in df['sale']]\n",
    "df['st_btl_cost'] = [float(x.replace('$','')) for x in df['st_btl_cost']]\n",
    "df['st_btl_retail'] = [float(x.replace('$','')) for x in df['st_btl_retail']]"
   ]
  },
  {
   "cell_type": "code",
   "execution_count": 235,
   "metadata": {
    "collapsed": false
   },
   "outputs": [],
   "source": [
    "#Create new columns from month and year as numerical value. This will make it easier to filter Q1 sales data.\n",
    "df['year'] = df['date'].dt.year\n",
    "df['month'] = df['date'].dt.month"
   ]
  },
  {
   "cell_type": "code",
   "execution_count": 236,
   "metadata": {
    "collapsed": false
   },
   "outputs": [],
   "source": [
    "import seaborn as sns\n",
    "import matplotlib.pyplot as plt"
   ]
  },
  {
   "cell_type": "markdown",
   "metadata": {},
   "source": [
    "## Record your findings\n",
    "\n",
    "Be sure to write out anything observations from your exploratory analysis."
   ]
  },
  {
   "cell_type": "markdown",
   "metadata": {},
   "source": [
    "# Mine the data\n",
    "Now you are ready to compute the variables you will use for your regression from the data. For example, you may want to\n",
    "compute total sales per store from Jan to March of 2015, mean price per bottle, etc. Refer to the readme for more ideas appropriate to your scenario.\n",
    "\n",
    "Pandas is your friend for this task. Take a look at the operations [here](http://pandas.pydata.org/pandas-docs/stable/groupby.html) for ideas on how to make the best use of pandas and feel free to search for blog and Stack Overflow posts to help you group data by certain variables and compute sums, means, etc. You may find it useful to create a new data frame to house this summary data."
   ]
  },
  {
   "cell_type": "code",
   "execution_count": 237,
   "metadata": {
    "collapsed": false
   },
   "outputs": [
    {
     "data": {
      "text/plain": [
       "array(['date', 'store_number', 'city', 'zip_code', 'county_number',\n",
       "       'county', 'cat_name', 'vendor', 'item_number', 'item_desc',\n",
       "       'btl_vol', 'st_btl_cost', 'st_btl_retail', 'btls_sold', 'sale',\n",
       "       'vol_sold', 'year', 'month'], dtype=object)"
      ]
     },
     "execution_count": 237,
     "metadata": {},
     "output_type": "execute_result"
    }
   ],
   "source": [
    "# I like to print the column names so I know the exact names what im working with.\n",
    "df.columns.values"
   ]
  },
  {
   "cell_type": "code",
   "execution_count": 238,
   "metadata": {
    "collapsed": false,
    "scrolled": true
   },
   "outputs": [],
   "source": [
    "# Creating a pivot tables.\n",
    "# Here I chose to create 3 pivot tables. Total data sales for 2015, Q1 2015 and Q1 2016 \n",
    "\n",
    "pivot_2015 = pd.pivot_table(df[df['year'] == 2015], values=['sale'], index=['store_number'], columns=['year'], aggfunc=sum)\n",
    "pivot_q1_2015 = df[(df['month'] < 4) & (df['year'] == 2015)]\n",
    "pivot_q1_2016 = df[(df['month'] < 4) & (df['year'] == 2016)]"
   ]
  },
  {
   "cell_type": "code",
   "execution_count": 239,
   "metadata": {
    "collapsed": false
   },
   "outputs": [],
   "source": [
    "#Next, I chose to find the mean and sum of Bottles Sold, Volume Sold, Bottle Volume and State Retail Price for 2015\n",
    "\n",
    "avg = pd.pivot_table(pivot_q1_2015, values=['sale', 'btls_sold', 'vol_sold', 'btl_vol', 'st_btl_retail'], \n",
    "                     index=['store_number'], columns=['year'])\n",
    "\n",
    "q1_sales = pd.pivot_table(pivot_q1_2015, values=['sale', 'btls_sold', 'vol_sold'], \n",
    "                          index=['store_number'], columns=['year'], aggfunc=sum)\n",
    "q12015 = pd.concat([avg, q1_sales], axis=1).dropna()\n",
    "\n",
    "q12015.columns = [('avg sale', 'q1_2015'), ('avg btls_sold', 'q1_2015'), ('avg vol_sold', 'q1_2015'),\n",
    "       ('avg btl_vol',  'q1_2015'), ('avg st_btl_retail', 'q1_2015'),\n",
    "       ('total sale', 'q1_2015'), ('total btls_sold', 'q1_2015'), ('total vol_sold', 'q1_2015')]\n",
    "\n"
   ]
  },
  {
   "cell_type": "code",
   "execution_count": 240,
   "metadata": {
    "collapsed": false
   },
   "outputs": [
    {
     "name": "stdout",
     "output_type": "stream",
     "text": [
      "                    sale  btls_sold   vol_sold      btl_vol st_btl_retail  \\\n",
      "year                2016       2016       2016         2016          2016   \n",
      "store_number                                                                \n",
      "2106          240.344488  17.480315  16.675197   935.039370     15.614567   \n",
      "2113           55.835135   4.297297   4.783784   986.486486     16.077297   \n",
      "2130          238.086410  14.752137  13.306838   955.769231     15.932308   \n",
      "2152           45.881000   4.533333   4.671000  1066.666667     12.711667   \n",
      "2178           96.353448   8.275862   8.979310  1054.741379     13.915345   \n",
      "2190          110.982926   8.254019   4.879293   798.472669     19.250836   \n",
      "2191          331.036364  18.251748  20.476364  1009.440559     17.015245   \n",
      "2200           50.913049   3.195122   3.887561  1084.756098     17.038780   \n",
      "2228           46.763333   3.469697   3.164394   824.621212     15.306667   \n",
      "2233          133.115306   9.755102   9.747347  1053.571429     22.361020   \n",
      "2238          419.766000  21.900000  19.875000   887.500000     19.804000   \n",
      "2248          145.241800   7.140000   5.627600   813.500000     22.615500   \n",
      "2285          241.936346  14.365385  12.932692   901.442308     21.293654   \n",
      "2290           49.988054   3.918288   3.380078   911.381323     14.940428   \n",
      "2327           48.812667   4.466667   3.535556  1054.444444     15.132222   \n",
      "2353          102.663922   7.607843   8.862745  1137.254902     14.202157   \n",
      "2413          186.840240  12.672000  12.888000  1036.000000     16.246640   \n",
      "2445           49.081724   4.586207   4.142069  1012.931034     15.947241   \n",
      "2448           71.682766   4.553191   4.398936   914.893617     15.370957   \n",
      "2459           72.987600   4.600000   5.670000  1105.000000     14.721200   \n",
      "2460          109.310312   8.062500   9.555938  1030.859375     15.695781   \n",
      "2465           76.910857   5.285714   4.983286  1050.714286     21.332857   \n",
      "2475          149.689687   9.625000  14.788750  1343.750000     17.538438   \n",
      "2478          212.505714  11.428571  10.714286   892.857143     20.119048   \n",
      "2498           43.352222   4.333333   3.570556   800.000000     10.271667   \n",
      "2500           98.936228   7.038012   6.329094   855.921053     15.175906   \n",
      "2501          110.222574   8.621324   7.698346   876.746324     14.216985   \n",
      "2502          104.491044   7.302198   7.075220  1007.005495     16.247253   \n",
      "2505           93.031401   7.242038   7.075350   936.624204     14.124586   \n",
      "2506          133.231573   9.451613   9.184597   998.487903     15.135887   \n",
      "...                  ...        ...        ...          ...           ...   \n",
      "5210           84.591500   6.275000   5.631875   903.750000     15.278875   \n",
      "5211           63.691053   6.210526   5.339474   871.052632     12.765789   \n",
      "5212           37.087619   4.428571   2.028571   616.666667     12.290952   \n",
      "5213           38.531667   5.750000   3.833333   725.000000      7.576667   \n",
      "5214          137.745000   9.416667   5.608333   575.000000     14.095833   \n",
      "5215           40.871296   3.592593   2.372037   719.907407     14.411111   \n",
      "5216           53.160000   8.000000   5.250000   625.000000      6.243333   \n",
      "5217           78.270000   8.500000   4.500000   562.500000      9.661667   \n",
      "5218            9.600000   1.000000   0.750000   750.000000      9.600000   \n",
      "5220           24.855246   2.508197   1.845246   782.377049     11.746230   \n",
      "5222          301.476364  26.454545  12.097576   496.212121     11.676364   \n",
      "5223          109.060000   5.000000   3.373333   625.000000     19.806667   \n",
      "5224          129.799000  11.450000   5.792500   682.500000     16.833500   \n",
      "5225           53.260714   5.642857   3.892857   655.357143      8.860000   \n",
      "5226          134.314615  22.384615   7.050000   448.076923      8.380769   \n",
      "5227           63.612222   6.814815   3.739630   583.333333     10.359630   \n",
      "5229          102.132000   6.000000   3.824000   600.000000     15.896000   \n",
      "5230           52.943231   5.676923   2.939538   698.461538     13.768615   \n",
      "5232           46.672500   6.750000   3.655000   468.750000      7.825000   \n",
      "5233           71.212500   5.250000   4.312500   812.500000     13.050000   \n",
      "5234          175.000000   8.000000   8.000000  1083.333333     21.666667   \n",
      "5236           86.890204   5.714286   6.349592  1062.755102     16.942653   \n",
      "5237          223.655000  16.500000   7.975000   658.333333     18.641667   \n",
      "5240           68.228571   6.428571   4.252857   707.142857     11.827143   \n",
      "5247           39.722857   5.000000   2.964286   946.428571     14.717143   \n",
      "9001          708.240000  24.000000  18.000000   750.000000     29.510000   \n",
      "9002          276.528000  15.600000   9.900000   600.000000     17.566000   \n",
      "9010          177.480000  12.000000   9.000000   750.000000     14.790000   \n",
      "9013          180.780000  18.000000  15.000000   875.000000     10.225000   \n",
      "9023          633.360000  24.000000  18.000000   750.000000     26.390000   \n",
      "\n",
      "                  sale btls_sold vol_sold  \n",
      "year              2016      2016     2016  \n",
      "store_number                               \n",
      "2106          30523.75    2220.0  2117.75  \n",
      "2113           2065.90     159.0   177.00  \n",
      "2130          27856.11    1726.0  1556.90  \n",
      "2152           1376.43     136.0   140.13  \n",
      "2178           5588.50     480.0   520.80  \n",
      "2190          34515.69    2567.0  1517.46  \n",
      "2191          47338.20    2610.0  2928.12  \n",
      "2200           4174.87     262.0   318.78  \n",
      "2228           3086.38     229.0   208.85  \n",
      "2233           6522.65     478.0   477.62  \n",
      "2238           4197.66     219.0   198.75  \n",
      "2248          14524.18     714.0   562.76  \n",
      "2285          12580.69     747.0   672.50  \n",
      "2290          12846.93    1007.0   868.68  \n",
      "2327           2196.57     201.0   159.10  \n",
      "2353           5235.86     388.0   452.00  \n",
      "2413          23355.03    1584.0  1611.00  \n",
      "2445           1423.37     133.0   120.12  \n",
      "2448           6738.18     428.0   413.50  \n",
      "2459           1824.69     115.0   141.75  \n",
      "2460           6995.86     516.0   611.58  \n",
      "2465           5383.76     370.0   348.83  \n",
      "2475           4790.07     308.0   473.24  \n",
      "2478           4462.62     240.0   225.00  \n",
      "2498            780.34      78.0    64.27  \n",
      "2500          33836.19    2407.0  2164.55  \n",
      "2501          29980.54    2345.0  2093.95  \n",
      "2502          19017.37    1329.0  1287.69  \n",
      "2505          14605.93    1137.0  1110.83  \n",
      "2506          33041.43    2344.0  2277.78  \n",
      "...                ...       ...      ...  \n",
      "5210           6767.32     502.0   450.55  \n",
      "5211           1210.13     118.0   101.45  \n",
      "5212            778.84      93.0    42.60  \n",
      "5213            462.38      69.0    46.00  \n",
      "5214           1652.94     113.0    67.30  \n",
      "5215           2207.05     194.0   128.09  \n",
      "5216            159.48      24.0    15.75  \n",
      "5217            469.62      51.0    27.00  \n",
      "5218             19.20       2.0     1.50  \n",
      "5220           1516.17     153.0   112.56  \n",
      "5222           9948.72     873.0   399.22  \n",
      "5223            327.18      15.0    10.12  \n",
      "5224           2595.98     229.0   115.85  \n",
      "5225            745.65      79.0    54.50  \n",
      "5226           1746.09     291.0    91.65  \n",
      "5227           1717.53     184.0   100.97  \n",
      "5229            510.66      30.0    19.12  \n",
      "5230           3441.31     369.0   191.07  \n",
      "5232            186.69      27.0    14.62  \n",
      "5233            284.85      21.0    17.25  \n",
      "5234            525.00      24.0    24.00  \n",
      "5236           4257.62     280.0   311.13  \n",
      "5237           1341.93      99.0    47.85  \n",
      "5240            477.60      45.0    29.77  \n",
      "5247            278.06      35.0    20.75  \n",
      "9001            708.24      24.0    18.00  \n",
      "9002           1382.64      78.0    49.50  \n",
      "9010            177.48      12.0     9.00  \n",
      "9013            361.56      36.0    30.00  \n",
      "9023            633.36      24.0    18.00  \n",
      "\n",
      "[1309 rows x 8 columns]\n"
     ]
    }
   ],
   "source": [
    "#Next, I chose to find the mean and sum of Bottles Sold, Volume Sold, Bottle Volume and State Retail Price for 2016.\n",
    "#Rename the column titles.\n",
    "\n",
    "avg = pd.pivot_table(pivot_q1_2016, values=['sale', 'btls_sold', 'vol_sold', 'btl_vol', 'st_btl_retail'], index=['store_number'], columns=['year'])\n",
    "q1_sales = pd.pivot_table(pivot_q1_2016, values=['sale', 'btls_sold', 'vol_sold'], index=['store_number'], columns=['year'], aggfunc=sum)\n",
    "\n",
    "q12016 = pd.concat([avg, q1_sales], axis=1).dropna()\n",
    "print q12016\n",
    "q12016.columns = [('avg sale', 'q1_2016'), ('avg btls_sold', 'q1_2016'), ('avg vol_sold', 'q1_2016'),\n",
    "       ('avg btl_vol',  'q1_2016'), ('avg st_btl_retail', 'q1_2016'),\n",
    "       ('total sale', 'q1_2016'), ('total btls_sold', 'q1_2016'), ('total vol_sold', 'q1_2016')]\n"
   ]
  },
  {
   "cell_type": "code",
   "execution_count": 241,
   "metadata": {
    "collapsed": false
   },
   "outputs": [],
   "source": [
    "# Here combine all of my features back into a single data frame. From here I can extract the data based on column name.\n",
    "data = pd.concat([pivot_2015, q12015, q12016], axis=1).dropna()"
   ]
  },
  {
   "cell_type": "markdown",
   "metadata": {},
   "source": [
    "# Refine the data\n",
    "Look for any statistical relationships, correlations, or other relevant properties of the dataset."
   ]
  },
  {
   "cell_type": "code",
   "execution_count": 242,
   "metadata": {
    "collapsed": false,
    "scrolled": true
   },
   "outputs": [
    {
     "data": {
      "text/plain": [
       "array([('sale', 2015), ('avg sale', 'q1_2015'),\n",
       "       ('avg btls_sold', 'q1_2015'), ('avg vol_sold', 'q1_2015'),\n",
       "       ('avg btl_vol', 'q1_2015'), ('avg st_btl_retail', 'q1_2015'),\n",
       "       ('total sale', 'q1_2015'), ('total btls_sold', 'q1_2015'),\n",
       "       ('total vol_sold', 'q1_2015'), ('avg sale', 'q1_2016'),\n",
       "       ('avg btls_sold', 'q1_2016'), ('avg vol_sold', 'q1_2016'),\n",
       "       ('avg btl_vol', 'q1_2016'), ('avg st_btl_retail', 'q1_2016'),\n",
       "       ('total sale', 'q1_2016'), ('total btls_sold', 'q1_2016'),\n",
       "       ('total vol_sold', 'q1_2016')], dtype=object)"
      ]
     },
     "execution_count": 242,
     "metadata": {},
     "output_type": "execute_result"
    }
   ],
   "source": [
    "data.columns.values"
   ]
  },
  {
   "cell_type": "markdown",
   "metadata": {},
   "source": [
    "# Build your models\n",
    "\n",
    "Using scikit-learn or statsmodels, build the necessary models for your scenario. Evaluate model fit."
   ]
  },
  {
   "cell_type": "code",
   "execution_count": 243,
   "metadata": {
    "collapsed": true
   },
   "outputs": [],
   "source": [
    "from sklearn import linear_model, metrics\n",
    "from sklearn.cross_validation import cross_val_score, cross_val_predict, train_test_split\n",
    "from sklearn.metrics import r2_score\n"
   ]
  },
  {
   "cell_type": "code",
   "execution_count": 244,
   "metadata": {
    "collapsed": false
   },
   "outputs": [
    {
     "data": {
      "image/png": "[encoded data removed]",
      "text/plain": [
       "<matplotlib.figure.Figure at 0x128693d90>"
      ]
     },
     "metadata": {},
     "output_type": "display_data"
    },
    {
     "name": "stdout",
     "output_type": "stream",
     "text": [
      "Cross-Predicted Accuracy: 0.965493720896\n"
     ]
    }
   ],
   "source": [
    "#First, I train my model using just total sales of Q1 2015 and total sales for 2015\n",
    "\n",
    "lm = linear_model.LinearRegression()\n",
    "\n",
    "X = data[[('total sale', 'q1_2015')]]\n",
    "y = data[('sale', 2015)]\n",
    "\n",
    "predictions = cross_val_predict(lm, X, y, cv=5)\n",
    "\n",
    "model = lm.fit(X, predictions)\n",
    "plt.scatter(y, predictions)\n",
    "plt.show()\n",
    "print \"Cross-Predicted Accuracy:\", model.score(X, y)"
   ]
  },
  {
   "cell_type": "code",
   "execution_count": 245,
   "metadata": {
    "collapsed": false,
    "scrolled": true
   },
   "outputs": [
    {
     "data": {
      "image/png": "[encoded data removed]",
      "text/plain": [
       "<matplotlib.figure.Figure at 0x1285b6090>"
      ]
     },
     "metadata": {},
     "output_type": "display_data"
    },
    {
     "name": "stdout",
     "output_type": "stream",
     "text": [
      "Cross-Predicted Accuracy: 0.966259879157\n"
     ]
    }
   ],
   "source": [
    "#Next, I added more features to see if I was able to train a better model. This resulted in a slightly higher R2.\n",
    "\n",
    "lm = linear_model.LinearRegression()\n",
    "\n",
    "X = data[[('avg btl_vol', 'q1_2015'), ('avg vol_sold', 'q1_2015'),\n",
    "          ('total sale', 'q1_2015'), ('avg btls_sold', 'q1_2015')]]\n",
    "y = data[('sale', 2015)]\n",
    "\n",
    "predictions = cross_val_predict(lm, X, y, cv=5)\n",
    "\n",
    "model = lm.fit(X, predictions)\n",
    "plt.scatter(y, predictions)\n",
    "plt.show()\n",
    "print \"Cross-Predicted Accuracy:\", model.score(X, y)"
   ]
  },
  {
   "cell_type": "code",
   "execution_count": 246,
   "metadata": {
    "collapsed": false
   },
   "outputs": [
    {
     "name": "stdout",
     "output_type": "stream",
     "text": [
      "Cross-Predicted Accuracy: 0.94014996295\n"
     ]
    }
   ],
   "source": [
    "# Predict 2016 sales using model\n",
    "X = data[[('avg btl_vol', 'q1_2016'), ('avg vol_sold', 'q1_2016'),\n",
    "          ('total sale', 'q1_2016'), ('avg btls_sold', 'q1_2016')]]\n",
    "predictions = lm.predict(X)"
   ]
  },
  {
   "cell_type": "code",
   "execution_count": 262,
   "metadata": {
    "collapsed": false
   },
   "outputs": [
    {
     "data": {
      "text/plain": [
       "array([ 133075.99733062,   10353.05809106,  122204.086728  , ...,\n",
       "          1952.90698902,    5641.56648041,     758.8835836 ])"
      ]
     },
     "execution_count": 262,
     "metadata": {},
     "output_type": "execute_result"
    }
   ],
   "source": [
    "predictions"
   ]
  },
  {
   "cell_type": "code",
   "execution_count": 247,
   "metadata": {
    "collapsed": false
   },
   "outputs": [
    {
     "name": "stdout",
     "output_type": "stream",
     "text": [
      "27607603.7808\n"
     ]
    }
   ],
   "source": [
    "print sum(predictions)"
   ]
  },
  {
   "cell_type": "markdown",
   "metadata": {},
   "source": [
    "## Plot your results\n",
    "\n",
    "Again make sure that you record any valuable information. For example, in the tax scenario, did you find the sales from the first three months of the year to be a good predictor of the total sales for the year? Plot the predictions versus the true values and discuss the successes and limitations of your models"
   ]
  },
  {
   "cell_type": "code",
   "execution_count": 260,
   "metadata": {
    "collapsed": false
   },
   "outputs": [
    {
     "data": {
      "image/png": "[encoded data removed]",
      "text/plain": [
       "<matplotlib.figure.Figure at 0x12a8a6e90>"
      ]
     },
     "metadata": {},
     "output_type": "display_data"
    }
   ],
   "source": [
    "# Plots can be see above.\n",
    "plt.scatter(y, predictions)\n",
    "plt.show()"
   ]
  },
  {
   "cell_type": "markdown",
   "metadata": {},
   "source": [
    "# Present the Results\n",
    "\n",
    "Present your conclusions and results. If you have more than one interesting model feel free to include more than one along with a discussion. Use your work in this notebook to prepare your write-up."
   ]
  },
  {
   "cell_type": "code",
   "execution_count": null,
   "metadata": {
    "collapsed": true
   },
   "outputs": [],
   "source": [
    "http://www.mattrussell.me/new-blog/2016/10/24/project-3-liquor-sales-linear-regression"
   ]
  }
 ],
 "metadata": {
  "anaconda-cloud": {},
  "kernelspec": {
   "display_name": "Python [default]",
   "language": "python",
   "name": "python2"
  },
  "language_info": {
   "codemirror_mode": {
    "name": "ipython",
    "version": 2
   },
   "file_extension": ".py",
   "mimetype": "text/x-python",
   "name": "python",
   "nbconvert_exporter": "python",
   "pygments_lexer": "ipython2",
   "version": "2.7.12"
  }
 },
 "nbformat": 4,
 "nbformat_minor": 0
}
